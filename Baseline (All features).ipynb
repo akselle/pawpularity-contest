{
 "cells": [
  {
   "cell_type": "code",
   "execution_count": null,
   "metadata": {},
   "outputs": [],
   "source": [
    "# Важно! Не копируйте сразу целиком. Попробуйте что-нибудь изменить, а потом копировать себе"
   ]
  },
  {
   "cell_type": "code",
   "execution_count": 1,
   "metadata": {
    "_cell_guid": "b1076dfc-b9ad-4769-8c92-a6c4dae69d19",
    "_uuid": "8f2839f25d086af736a60e9eeb907d3b93b6e0e5",
    "execution": {
     "iopub.execute_input": "2021-11-11T11:02:27.228963Z",
     "iopub.status.busy": "2021-11-11T11:02:27.228601Z",
     "iopub.status.idle": "2021-11-11T11:02:28.908913Z",
     "shell.execute_reply": "2021-11-11T11:02:28.907998Z",
     "shell.execute_reply.started": "2021-11-11T11:02:27.228873Z"
    }
   },
   "outputs": [],
   "source": [
    "import numpy as np\n",
    "import pandas as pd\n",
    "\n",
    "import os\n",
    "\n",
    "from PIL import Image\n",
    "\n",
    "import torch\n",
    "from torch.utils.data import DataLoader, Dataset\n",
    "\n",
    "import torch.nn as nn\n",
    "import torchvision.models as models\n",
    "import torch.optim as optim\n",
    "import torchvision.transforms as transforms\n",
    "\n",
    "import matplotlib.pyplot as plt\n",
    "%matplotlib inline"
   ]
  },
  {
   "cell_type": "markdown",
   "metadata": {},
   "source": [
    "# Load data module"
   ]
  },
  {
   "cell_type": "code",
   "execution_count": 2,
   "metadata": {
    "execution": {
     "iopub.execute_input": "2021-11-11T11:02:28.910801Z",
     "iopub.status.busy": "2021-11-11T11:02:28.910557Z",
     "iopub.status.idle": "2021-11-11T11:02:28.919455Z",
     "shell.execute_reply": "2021-11-11T11:02:28.918791Z",
     "shell.execute_reply.started": "2021-11-11T11:02:28.910766Z"
    }
   },
   "outputs": [],
   "source": [
    "class PawpularDataset(Dataset):\n",
    "    def __init__(self, images_path, features_path, transform, test=False):\n",
    "        self.images_path = images_path\n",
    "        self.df = pd.read_csv(features_path)\n",
    "        if test:\n",
    "            self.df['Pawpularity'] = np.nan # можно попробовать написать удачнее\n",
    "        \n",
    "        self.imgs = self.df['Id']\n",
    "        self.features = self.df.drop(['Id', 'Pawpularity'], axis=1)\n",
    "        self.targets = self.df['Pawpularity']\n",
    "        self.transform = transform\n",
    "    \n",
    "    def __len__(self):\n",
    "        return len(self.df)\n",
    "    \n",
    "    def __getitem__(self, index):\n",
    "        img_id = self.imgs[index]\n",
    "        img = Image.open(os.path.join(self.images_path, img_id+'.jpg')).convert('RGB')\n",
    "        img = self.transform(img)\n",
    "        \n",
    "        features = torch.FloatTensor(self.features.values[index])\n",
    "        targets = self.targets.values[index]\n",
    "        \n",
    "        return img, features, targets # сделать сразу torch.tensor(targets, dtype=torch.float) и т.д."
   ]
  },
  {
   "cell_type": "markdown",
   "metadata": {},
   "source": [
    "# Model"
   ]
  },
  {
   "cell_type": "code",
   "execution_count": 3,
   "metadata": {
    "execution": {
     "iopub.execute_input": "2021-11-11T11:02:28.921460Z",
     "iopub.status.busy": "2021-11-11T11:02:28.920697Z",
     "iopub.status.idle": "2021-11-11T11:02:28.932367Z",
     "shell.execute_reply": "2021-11-11T11:02:28.931660Z",
     "shell.execute_reply.started": "2021-11-11T11:02:28.921423Z"
    }
   },
   "outputs": [],
   "source": [
    "class PawpularCNN(nn.Module):\n",
    "    def __init__(self, input_size, dense_size, hidden_size, num_classes):\n",
    "        super(PawpularCNN, self).__init__()\n",
    "        self.resnet = models.resnet18(pretrained=False)\n",
    "        self.resnet.load_state_dict(\n",
    "            torch.load(\"../input/pretrained-pytorch-models/resnet18-5c106cde.pth\")\n",
    "        ) # перед этим справа нажать на кнопку \"+ Add data\" и через поиск добавить предобученные веса\n",
    "        self.resnet.fc = nn.Linear(self.resnet.fc.in_features, hidden_size)\n",
    "        self.dense = nn.Linear(input_size, dense_size) # либо менять размерность, либо убрать один слой \n",
    "        \n",
    "        self.fc = nn.Linear(hidden_size+dense_size, num_classes)\n",
    "        \n",
    "        self.relu = nn.ReLU()\n",
    "        \n",
    "    def forward(self, images, features):\n",
    "        for param in self.resnet.parameters():\n",
    "            param.requires_grad = False\n",
    "                \n",
    "        resnet_features = self.relu(self.resnet(images))\n",
    "        dense_features = self.relu(self.dense(features))\n",
    "        \n",
    "        all_features = torch.cat((resnet_features, dense_features), dim=1) # признаки из ResNet + бинарные\n",
    "        all_features = torch.flatten(all_features, 1)\n",
    "        \n",
    "        return self.fc(all_features)"
   ]
  },
  {
   "cell_type": "markdown",
   "metadata": {},
   "source": [
    "# Parameters"
   ]
  },
  {
   "cell_type": "code",
   "execution_count": 4,
   "metadata": {
    "execution": {
     "iopub.execute_input": "2021-11-11T11:02:28.936198Z",
     "iopub.status.busy": "2021-11-11T11:02:28.934869Z",
     "iopub.status.idle": "2021-11-11T11:02:28.989214Z",
     "shell.execute_reply": "2021-11-11T11:02:28.988490Z",
     "shell.execute_reply.started": "2021-11-11T11:02:28.936162Z"
    }
   },
   "outputs": [],
   "source": [
    "transform = transforms.Compose(\n",
    "  [\n",
    "   transforms.Resize((256,256)),\n",
    "   transforms.CenterCrop(224),\n",
    "   transforms.ToTensor(),\n",
    "   transforms.Normalize(mean=[0.485, 0.456, 0.406], \n",
    "                        std=[0.229, 0.224, 0.225])\n",
    "  ]\n",
    ")\n",
    "\n",
    "device = torch.device('cuda' if torch.cuda.is_available() else 'cpu')\n",
    "\n",
    "input_size = 12\n",
    "hidden_size = 100\n",
    "dense_size = 100\n",
    "num_classes = 1\n",
    "learning_rate = 3e-4\n",
    "num_epochs = 10"
   ]
  },
  {
   "cell_type": "code",
   "execution_count": 5,
   "metadata": {
    "execution": {
     "iopub.execute_input": "2021-11-11T11:02:28.991183Z",
     "iopub.status.busy": "2021-11-11T11:02:28.990566Z",
     "iopub.status.idle": "2021-11-11T11:02:29.064304Z",
     "shell.execute_reply": "2021-11-11T11:02:29.063520Z",
     "shell.execute_reply.started": "2021-11-11T11:02:28.991133Z"
    }
   },
   "outputs": [],
   "source": [
    "torch.manual_seed(42)\n",
    "\n",
    "trainset = PawpularDataset(images_path='../input/petfinder-pawpularity-score/train', \n",
    "                           features_path='../input/petfinder-pawpularity-score/train.csv', \n",
    "                           transform=transform)\n",
    "\n",
    "num_examples = len(trainset)\n",
    "val_len = round(0.33*num_examples)\n",
    "train_len = num_examples - val_len\n",
    "\n",
    "train, validation = torch.utils.data.random_split(trainset, [train_len, val_len])\n",
    "train_loader = torch.utils.data.DataLoader(train, batch_size=100, \n",
    "                                           shuffle=True, num_workers=2)\n",
    "val_loader = torch.utils.data.DataLoader(validation, batch_size=100, \n",
    "                                         shuffle=True, num_workers=2)"
   ]
  },
  {
   "cell_type": "code",
   "execution_count": 6,
   "metadata": {
    "execution": {
     "iopub.execute_input": "2021-11-11T11:02:29.065954Z",
     "iopub.status.busy": "2021-11-11T11:02:29.065689Z",
     "iopub.status.idle": "2021-11-11T11:24:35.437819Z",
     "shell.execute_reply": "2021-11-11T11:24:35.436848Z",
     "shell.execute_reply.started": "2021-11-11T11:02:29.065921Z"
    }
   },
   "outputs": [],
   "source": [
    "torch.manual_seed(101)\n",
    "\n",
    "losses = list()\n",
    "model = PawpularCNN(input_size, dense_size, hidden_size, num_classes).to(device)\n",
    "\n",
    "criterion = nn.MSELoss().to(device)\n",
    "optimizer = optim.Adam(model.parameters(), lr=learning_rate)\n",
    "\n",
    "for epoch in range(1, num_epochs+1):\n",
    "    \n",
    "    for step, (img, features, target) in enumerate(train_loader):\n",
    "\n",
    "        model.zero_grad()\n",
    "\n",
    "        img = img.to(device)\n",
    "        features = features.to(device)\n",
    "        target = target.type(torch.FloatTensor) # потом убрать эту строку\n",
    "        target = target.to(device)\n",
    "\n",
    "        outputs = model(img, features)\n",
    "\n",
    "        loss = criterion(outputs, target.unsqueeze(1))\n",
    "\n",
    "        loss.backward()\n",
    "        optimizer.step()\n",
    "\n",
    "        losses.append(loss.item())\n",
    "        stats = 'Epoch [%d/%d], Step [%d], Loss: %.4f' % (epoch, num_epochs, step, loss.item())\n",
    "        print('\\r' + stats, end='')\n",
    "        \n",
    "    with torch.no_grad():\n",
    "        val_losses = 0\n",
    "        for img, features, target in val_loader:\n",
    "            img = img.to(device)\n",
    "            features = features.to(device)\n",
    "            target = target.to(device)\n",
    "            \n",
    "            outputs = model(img, features)\n",
    "            val_loss = criterion(outputs, target.unsqueeze(1))\n",
    "            val_losses += (1/len(val_loader))*val_loss.item()\n",
    "            \n",
    "        print('\\n Epoch [%d/%d], Val Loss: %.4f' % (epoch, num_epochs, val_losses))"
   ]
  },
  {
   "cell_type": "code",
   "execution_count": 7,
   "metadata": {
    "execution": {
     "iopub.execute_input": "2021-11-11T11:24:41.984035Z",
     "iopub.status.busy": "2021-11-11T11:24:41.983779Z",
     "iopub.status.idle": "2021-11-11T11:24:42.204235Z",
     "shell.execute_reply": "2021-11-11T11:24:42.203588Z",
     "shell.execute_reply.started": "2021-11-11T11:24:41.984003Z"
    }
   },
   "outputs": [],
   "source": [
    "plt.plot(losses)"
   ]
  },
  {
   "cell_type": "code",
   "execution_count": null,
   "metadata": {},
   "outputs": [],
   "source": [
    "# Для загрузки решения:\n",
    "# trainset = PawpularDataset(images_path='../input/petfinder-pawpularity-score/train', \n",
    "#                            features_path='../input/petfinder-pawpularity-score/train.csv', \n",
    "#                            transform=transform, \n",
    "#                            test=False)\n",
    "\n",
    "# train_loader = torch.utils.data.DataLoader(trainset, batch_size=100, \n",
    "#                                            shuffle=True, num_workers=2)\n",
    "\n",
    "# testset = PawpularDataset(images_path='../input/petfinder-pawpularity-score/test', \n",
    "#                           features_path='../input/petfinder-pawpularity-score/test.csv', \n",
    "#                           transform=transform, \n",
    "#                           test=True)\n",
    "\n",
    "# test_loader = torch.utils.data.DataLoader(testset, batch_size=100, \n",
    "#                                           shuffle=False, num_workers=2)\n",
    "\n",
    "# Там, где with torch.no_grad():\n",
    "# убрать target = ..., val_loss = ... и val_losses ...\n",
    "# поскольку предсказания будут по мини-батчам, необходимо создать для них отдельную переменную и\n",
    "# на каждой итерации добавлять туда новые предсказания"
   ]
  }
 ],
 "metadata": {
  "kernelspec": {
   "display_name": "Python 3",
   "language": "python",
   "name": "python3"
  },
  "language_info": {
   "codemirror_mode": {
    "name": "ipython",
    "version": 3
   },
   "file_extension": ".py",
   "mimetype": "text/x-python",
   "name": "python",
   "nbconvert_exporter": "python",
   "pygments_lexer": "ipython3",
   "version": "3.7.6"
  }
 },
 "nbformat": 4,
 "nbformat_minor": 4
}
