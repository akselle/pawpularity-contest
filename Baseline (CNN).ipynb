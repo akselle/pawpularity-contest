{
 "cells": [
  {
   "cell_type": "code",
   "execution_count": null,
   "metadata": {
    "_cell_guid": "b1076dfc-b9ad-4769-8c92-a6c4dae69d19",
    "_uuid": "8f2839f25d086af736a60e9eeb907d3b93b6e0e5",
    "execution": {
     "iopub.execute_input": "2021-10-28T11:50:11.458108Z",
     "iopub.status.busy": "2021-10-28T11:50:11.457506Z",
     "iopub.status.idle": "2021-10-28T11:50:13.207794Z",
     "shell.execute_reply": "2021-10-28T11:50:13.206933Z",
     "shell.execute_reply.started": "2021-10-28T11:50:11.458009Z"
    }
   },
   "outputs": [],
   "source": [
    "import numpy as np\n",
    "import pandas as pd\n",
    "\n",
    "import os\n",
    "\n",
    "from PIL import Image\n",
    "\n",
    "import torch\n",
    "from torch.utils.data import DataLoader, Dataset\n",
    "\n",
    "import torch.nn as nn\n",
    "import torchvision.models as models\n",
    "import torch.optim as optim\n",
    "import torchvision.transforms as transforms"
   ]
  },
  {
   "cell_type": "code",
   "execution_count": null,
   "metadata": {
    "execution": {
     "iopub.execute_input": "2021-10-28T12:01:00.219437Z",
     "iopub.status.busy": "2021-10-28T12:01:00.218668Z",
     "iopub.status.idle": "2021-10-28T12:01:00.227614Z",
     "shell.execute_reply": "2021-10-28T12:01:00.226908Z",
     "shell.execute_reply.started": "2021-10-28T12:01:00.219389Z"
    }
   },
   "outputs": [],
   "source": [
    "class PawpularDataset(Dataset):\n",
    "    def __init__(self, images_path, features_path, transform):\n",
    "        self.images_path = images_path\n",
    "        self.df = pd.read_csv(features_path, dtype={'Pawpularity': np.float32})\n",
    "        \n",
    "        self.imgs = self.df['Id']\n",
    "        self.targets = self.df['Pawpularity']\n",
    "        self.transform = transform\n",
    "    \n",
    "    def __len__(self):\n",
    "        return len(self.df)\n",
    "    \n",
    "    def __getitem__(self, index):\n",
    "        img_id = self.imgs[index]\n",
    "        img = Image.open(os.path.join(self.images_path, img_id+'.jpg')).convert('RGB')\n",
    "        img = self.transform(img)\n",
    "        \n",
    "        targets = self.targets[index]\n",
    "        \n",
    "        return img, targets"
   ]
  },
  {
   "cell_type": "code",
   "execution_count": null,
   "metadata": {
    "execution": {
     "iopub.execute_input": "2021-10-28T11:55:02.409543Z",
     "iopub.status.busy": "2021-10-28T11:55:02.409070Z",
     "iopub.status.idle": "2021-10-28T11:55:02.417011Z",
     "shell.execute_reply": "2021-10-28T11:55:02.416331Z",
     "shell.execute_reply.started": "2021-10-28T11:55:02.409493Z"
    }
   },
   "outputs": [],
   "source": [
    "class PretrainedCNN(nn.Module):\n",
    "    def __init__(self, hidden_size, num_classes, train=False):\n",
    "        super(PretrainedCNN, self).__init__()\n",
    "        self.train = train\n",
    "        self.resnet = models.resnet18(pretrained=True) # TODO\n",
    "        self.resnet.fc = nn.Linear(self.resnet.fc.in_features, hidden_size) # TODO\n",
    "        self.fc = nn.Linear(hidden_size, num_classes)\n",
    "        \n",
    "        self.relu = nn.ReLU()\n",
    "        self.dropout = nn.Dropout(0.2)\n",
    "        \n",
    "    def forward(self, images):\n",
    "        for name, param in self.resnet.named_parameters():\n",
    "            if 'fc.weight' in name or 'fc.bias' in name:\n",
    "                param.requires_grad = True\n",
    "            else:\n",
    "                param.requires_grad = self.train\n",
    "                \n",
    "        resnet_features = self.dropout(self.relu(self.resnet(images)))\n",
    "                \n",
    "        return self.fc(resnet_features)"
   ]
  },
  {
   "cell_type": "code",
   "execution_count": null,
   "metadata": {
    "execution": {
     "iopub.execute_input": "2021-10-28T11:55:02.806862Z",
     "iopub.status.busy": "2021-10-28T11:55:02.806287Z",
     "iopub.status.idle": "2021-10-28T11:55:02.811876Z",
     "shell.execute_reply": "2021-10-28T11:55:02.811059Z",
     "shell.execute_reply.started": "2021-10-28T11:55:02.806819Z"
    }
   },
   "outputs": [],
   "source": [
    "transform = transforms.Compose(\n",
    "  [\n",
    "   transforms.Resize((256,256)),\n",
    "   transforms.CenterCrop(224),\n",
    "   transforms.ToTensor(),\n",
    "   transforms.Normalize(mean=[0.485, 0.456, 0.406], \n",
    "                        std=[0.229, 0.224, 0.225])\n",
    "  ]\n",
    ")"
   ]
  },
  {
   "cell_type": "code",
   "execution_count": null,
   "metadata": {
    "execution": {
     "iopub.execute_input": "2021-10-28T12:52:58.840615Z",
     "iopub.status.busy": "2021-10-28T12:52:58.840160Z",
     "iopub.status.idle": "2021-10-28T12:52:58.866626Z",
     "shell.execute_reply": "2021-10-28T12:52:58.865908Z",
     "shell.execute_reply.started": "2021-10-28T12:52:58.840580Z"
    }
   },
   "outputs": [],
   "source": [
    "torch.manual_seed(101)\n",
    "\n",
    "trainset = PawpularDataset(images_path='../input/petfinder-pawpularity-score/train', \n",
    "                           features_path='../input/petfinder-pawpularity-score/train.csv', \n",
    "                           transform=transform)\n",
    "\n",
    "# TODO\n",
    "# testloader = PawpularDataset(images_path='../input/petfinder-pawpularity-score/test', \n",
    "#                            features_path='../input/petfinder-pawpularity-score/test.csv', \n",
    "#                            transform=transform)\n",
    "# \n",
    "# train_loader = DataLoader(\n",
    "#     dataset=trainset,\n",
    "#     batch_size=64,\n",
    "#     shuffle=True\n",
    "# )\n",
    "# \n",
    "# test_loader = DataLoader(\n",
    "#     dataset=testloader,\n",
    "#     batch_size=64,\n",
    "#     shuffle=False\n",
    "# )\n",
    "\n",
    "num_examples = len(trainset)\n",
    "val_len = round(0.33*num_examples)\n",
    "train_len = num_examples - val_len\n",
    "\n",
    "train, validation = torch.utils.data.random_split(trainset, [train_len, val_len])\n",
    "train_loader = torch.utils.data.DataLoader(train, batch_size=100, \n",
    "                                           shuffle=True, num_workers=2)\n",
    "val_loader = torch.utils.data.DataLoader(validation, batch_size=100, \n",
    "                                         shuffle=True, num_workers=2)"
   ]
  },
  {
   "cell_type": "code",
   "execution_count": null,
   "metadata": {
    "execution": {
     "iopub.execute_input": "2021-10-28T11:53:55.223847Z",
     "iopub.status.busy": "2021-10-28T11:53:55.223163Z",
     "iopub.status.idle": "2021-10-28T11:53:55.281583Z",
     "shell.execute_reply": "2021-10-28T11:53:55.280818Z",
     "shell.execute_reply.started": "2021-10-28T11:53:55.223810Z"
    }
   },
   "outputs": [],
   "source": [
    "device = torch.device('cuda' if torch.cuda.is_available() else 'cpu')\n",
    "\n",
    "hidden_size = 256\n",
    "num_classes = 1\n",
    "learning_rate = 3e-4\n",
    "num_epochs = 10"
   ]
  },
  {
   "cell_type": "code",
   "execution_count": null,
   "metadata": {
    "execution": {
     "iopub.execute_input": "2021-10-28T12:56:54.058012Z",
     "iopub.status.busy": "2021-10-28T12:56:54.057074Z",
     "iopub.status.idle": "2021-10-28T13:19:18.889705Z",
     "shell.execute_reply": "2021-10-28T13:19:18.888838Z",
     "shell.execute_reply.started": "2021-10-28T12:56:54.057962Z"
    }
   },
   "outputs": [],
   "source": [
    "torch.manual_seed(101)\n",
    "\n",
    "losses = list()\n",
    "model = PretrainedCNN(hidden_size, num_classes).to(device)\n",
    "\n",
    "criterion = nn.MSELoss()\n",
    "optimizer = optim.Adam(model.parameters(), lr=learning_rate)\n",
    "\n",
    "for epoch in range(1, num_epochs+1):\n",
    "    \n",
    "    for step, (img, target) in enumerate(train_loader):\n",
    "\n",
    "        model.zero_grad()\n",
    "\n",
    "        img = img.to(device)\n",
    "        target = target.to(device)\n",
    "\n",
    "        outputs = model(img)\n",
    "\n",
    "        loss = criterion(outputs, target.unsqueeze(1))\n",
    "\n",
    "        loss.backward()\n",
    "        optimizer.step()\n",
    "\n",
    "        losses.append(loss.item())\n",
    "        stats = 'Epoch [%d/%d], Step [%d], Loss: %.4f' % (epoch, num_epochs, step, loss.item())\n",
    "        print('\\r' + stats, end='')\n",
    "        \n",
    "    with torch.no_grad():\n",
    "        val_losses = 0\n",
    "        for img, target in val_loader:\n",
    "            img = img.to(device)\n",
    "            target = target.to(device)\n",
    "            \n",
    "            outputs = model(img)\n",
    "            val_loss = criterion(outputs, target.unsqueeze(1))\n",
    "            val_losses += (1/len(val_loader))*val_loss.item()\n",
    "            \n",
    "        print('\\n Epoch [%d/%d], Val Loss: %.4f' % (epoch, num_epochs, val_losses))"
   ]
  }
 ],
 "metadata": {
  "kernelspec": {
   "display_name": "Python 3",
   "language": "python",
   "name": "python3"
  },
  "language_info": {
   "codemirror_mode": {
    "name": "ipython",
    "version": 3
   },
   "file_extension": ".py",
   "mimetype": "text/x-python",
   "name": "python",
   "nbconvert_exporter": "python",
   "pygments_lexer": "ipython3",
   "version": "3.7.6"
  }
 },
 "nbformat": 4,
 "nbformat_minor": 4
}
